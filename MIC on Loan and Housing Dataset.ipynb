{
 "cells": [
  {
   "cell_type": "markdown",
   "id": "7b104b1e",
   "metadata": {},
   "source": [
    "# Part 1: Mutual Information Classification"
   ]
  },
  {
   "cell_type": "code",
   "execution_count": 10,
   "id": "6790869c",
   "metadata": {},
   "outputs": [
    {
     "name": "stdout",
     "output_type": "stream",
     "text": [
      "Original Dataset:\n",
      "    Loan_ID Gender Married Dependents     Education Self_Employed  \\\n",
      "0  LP001002   Male      No          0      Graduate            No   \n",
      "1  LP001003   Male     Yes          1      Graduate            No   \n",
      "2  LP001005   Male     Yes          0      Graduate           Yes   \n",
      "3  LP001006   Male     Yes          0  Not Graduate            No   \n",
      "4  LP001008   Male      No          0      Graduate            No   \n",
      "\n",
      "   ApplicantIncome  CoapplicantIncome  LoanAmount  Loan_Amount_Term  \\\n",
      "0             5849                0.0         NaN             360.0   \n",
      "1             4583             1508.0       128.0             360.0   \n",
      "2             3000                0.0        66.0             360.0   \n",
      "3             2583             2358.0       120.0             360.0   \n",
      "4             6000                0.0       141.0             360.0   \n",
      "\n",
      "   Credit_History Property_Area Loan_Status  \n",
      "0             1.0         Urban           Y  \n",
      "1             1.0         Rural           N  \n",
      "2             1.0         Urban           Y  \n",
      "3             1.0         Urban           Y  \n",
      "4             1.0         Urban           Y  \n"
     ]
    }
   ],
   "source": [
    "# Import necessary libraries\n",
    "import pandas as pd\n",
    "from sklearn.model_selection import train_test_split\n",
    "from sklearn.preprocessing import LabelEncoder\n",
    "from sklearn.impute import SimpleImputer\n",
    "from sklearn.feature_selection import SelectKBest, mutual_info_classif\n",
    "\n",
    "# Load the dataset (replace 'your_dataset.csv' with the actual file path)\n",
    "df = pd.read_csv('loan.csv')\n",
    "\n",
    "# Display the first few rows of the dataset\n",
    "print(\"Original Dataset:\")\n",
    "print(df.head())"
   ]
  },
  {
   "cell_type": "code",
   "execution_count": 11,
   "id": "e2230513",
   "metadata": {},
   "outputs": [
    {
     "name": "stdout",
     "output_type": "stream",
     "text": [
      "\n",
      "Dataset after null value handling:\n",
      "    Loan_ID Gender Married Dependents     Education Self_Employed  \\\n",
      "0  LP001002   Male      No          0      Graduate            No   \n",
      "1  LP001003   Male     Yes          1      Graduate            No   \n",
      "2  LP001005   Male     Yes          0      Graduate           Yes   \n",
      "3  LP001006   Male     Yes          0  Not Graduate            No   \n",
      "4  LP001008   Male      No          0      Graduate            No   \n",
      "\n",
      "  ApplicantIncome CoapplicantIncome LoanAmount Loan_Amount_Term  \\\n",
      "0            5849               0.0      120.0            360.0   \n",
      "1            4583            1508.0      128.0            360.0   \n",
      "2            3000               0.0       66.0            360.0   \n",
      "3            2583            2358.0      120.0            360.0   \n",
      "4            6000               0.0      141.0            360.0   \n",
      "\n",
      "  Credit_History Property_Area Loan_Status  \n",
      "0            1.0         Urban           Y  \n",
      "1            1.0         Rural           N  \n",
      "2            1.0         Urban           Y  \n",
      "3            1.0         Urban           Y  \n",
      "4            1.0         Urban           Y  \n"
     ]
    }
   ],
   "source": [
    "# Handle null values (replace 'most_frequent' with an appropriate imputation strategy)\n",
    "imputer = SimpleImputer(strategy='most_frequent')\n",
    "df = pd.DataFrame(imputer.fit_transform(df), columns=df.columns)\n",
    "\n",
    "# Display the dataset after handling null values\n",
    "print(\"\\nDataset after null value handling:\")\n",
    "print(df.head())\n"
   ]
  },
  {
   "cell_type": "code",
   "execution_count": 12,
   "id": "a7ffc1b8",
   "metadata": {},
   "outputs": [
    {
     "name": "stdout",
     "output_type": "stream",
     "text": [
      "\n",
      "Dataset after label encoding:\n",
      "   Loan_ID  Gender  Married  Dependents  Education  Self_Employed  \\\n",
      "0        0       1        0           0          0              0   \n",
      "1        1       1        1           1          0              0   \n",
      "2        2       1        1           0          0              1   \n",
      "3        3       1        1           0          1              0   \n",
      "4        4       1        0           0          0              0   \n",
      "\n",
      "   ApplicantIncome  CoapplicantIncome  LoanAmount  Loan_Amount_Term  \\\n",
      "0              376                  0          73                 8   \n",
      "1              306                 60          81                 8   \n",
      "2              139                  0          26                 8   \n",
      "3               90                160          73                 8   \n",
      "4              381                  0          94                 8   \n",
      "\n",
      "   Credit_History  Property_Area  \n",
      "0               1              2  \n",
      "1               1              0  \n",
      "2               1              2  \n",
      "3               1              2  \n",
      "4               1              2  \n"
     ]
    }
   ],
   "source": [
    "# Separate features (X) and target variable (y)\n",
    "X = df.drop('Loan_Status', axis=1)\n",
    "y = df['Loan_Status']\n",
    "\n",
    "# Label encoding for categorical variables\n",
    "label_encoder = LabelEncoder()\n",
    "X_encoded = X.apply(label_encoder.fit_transform)\n",
    "\n",
    "# Display the dataset after label encoding\n",
    "print(\"\\nDataset after label encoding:\")\n",
    "print(X_encoded.head())\n"
   ]
  },
  {
   "cell_type": "code",
   "execution_count": 13,
   "id": "ce9fd237",
   "metadata": {},
   "outputs": [
    {
     "name": "stdout",
     "output_type": "stream",
     "text": [
      "\n",
      "Selected Features:\n",
      "Index(['Self_Employed', 'Credit_History', 'Property_Area'], dtype='object')\n"
     ]
    }
   ],
   "source": [
    "# Split the dataset into training and testing sets\n",
    "X_train, X_test, y_train, y_test = train_test_split(X_encoded, y, test_size=0.2, random_state=42)\n",
    "\n",
    "# Use SelectKBest to select the top K features based on mutual information scores\n",
    "k_best_selector = SelectKBest(score_func=mutual_info_classif, k=3)  # Choose an appropriate value of K\n",
    "X_train_kbest = k_best_selector.fit_transform(X_train, y_train)\n",
    "\n",
    "# Get the indices of the selected features\n",
    "selected_feature_indices = k_best_selector.get_support(indices=True)\n",
    "\n",
    "# Print the names or indices of the selected features\n",
    "selected_feature_names = X_train.columns[selected_feature_indices]\n",
    "print(\"\\nSelected Features:\")\n",
    "print(selected_feature_names)"
   ]
  },
  {
   "cell_type": "markdown",
   "id": "f0bef6e1",
   "metadata": {},
   "source": [
    "# Part 2: Mutual Information Regression"
   ]
  },
  {
   "cell_type": "code",
   "execution_count": 16,
   "id": "814a325a",
   "metadata": {},
   "outputs": [
    {
     "name": "stdout",
     "output_type": "stream",
     "text": [
      "Original Dataset:\n",
      "   Id  MSSubClass MSZoning  LotFrontage  LotArea Street Alley LotShape  \\\n",
      "0   1          60       RL         65.0     8450   Pave   NaN      Reg   \n",
      "1   2          20       RL         80.0     9600   Pave   NaN      Reg   \n",
      "2   3          60       RL         68.0    11250   Pave   NaN      IR1   \n",
      "3   4          70       RL         60.0     9550   Pave   NaN      IR1   \n",
      "4   5          60       RL         84.0    14260   Pave   NaN      IR1   \n",
      "\n",
      "  LandContour Utilities  ... PoolArea PoolQC Fence MiscFeature MiscVal MoSold  \\\n",
      "0         Lvl    AllPub  ...        0    NaN   NaN         NaN       0      2   \n",
      "1         Lvl    AllPub  ...        0    NaN   NaN         NaN       0      5   \n",
      "2         Lvl    AllPub  ...        0    NaN   NaN         NaN       0      9   \n",
      "3         Lvl    AllPub  ...        0    NaN   NaN         NaN       0      2   \n",
      "4         Lvl    AllPub  ...        0    NaN   NaN         NaN       0     12   \n",
      "\n",
      "  YrSold  SaleType  SaleCondition  SalePrice  \n",
      "0   2008        WD         Normal     208500  \n",
      "1   2007        WD         Normal     181500  \n",
      "2   2008        WD         Normal     223500  \n",
      "3   2006        WD        Abnorml     140000  \n",
      "4   2008        WD         Normal     250000  \n",
      "\n",
      "[5 rows x 81 columns]\n"
     ]
    }
   ],
   "source": [
    "# Import necessary libraries\n",
    "import pandas as pd\n",
    "from sklearn.model_selection import train_test_split\n",
    "from sklearn.preprocessing import LabelEncoder\n",
    "from sklearn.impute import SimpleImputer\n",
    "from sklearn.feature_selection import SelectKBest, mutual_info_regression\n",
    "from sklearn.ensemble import RandomForestRegressor\n",
    "\n",
    "# Load the dataset (replace 'housing_dataset.csv' with the actual file path)\n",
    "df = pd.read_csv('housing.csv')\n",
    "\n",
    "# Display the first few rows of the dataset\n",
    "print(\"Original Dataset:\")\n",
    "print(df.head())\n"
   ]
  },
  {
   "cell_type": "code",
   "execution_count": 17,
   "id": "6068485c",
   "metadata": {},
   "outputs": [
    {
     "name": "stdout",
     "output_type": "stream",
     "text": [
      "\n",
      "Dataset after null value handling:\n",
      "  Id MSSubClass MSZoning LotFrontage LotArea Street Alley LotShape  \\\n",
      "0  1         60       RL        65.0    8450   Pave  Grvl      Reg   \n",
      "1  2         20       RL        80.0    9600   Pave  Grvl      Reg   \n",
      "2  3         60       RL        68.0   11250   Pave  Grvl      IR1   \n",
      "3  4         70       RL        60.0    9550   Pave  Grvl      IR1   \n",
      "4  5         60       RL        84.0   14260   Pave  Grvl      IR1   \n",
      "\n",
      "  LandContour Utilities  ... PoolArea PoolQC  Fence MiscFeature MiscVal  \\\n",
      "0         Lvl    AllPub  ...        0     Gd  MnPrv        Shed       0   \n",
      "1         Lvl    AllPub  ...        0     Gd  MnPrv        Shed       0   \n",
      "2         Lvl    AllPub  ...        0     Gd  MnPrv        Shed       0   \n",
      "3         Lvl    AllPub  ...        0     Gd  MnPrv        Shed       0   \n",
      "4         Lvl    AllPub  ...        0     Gd  MnPrv        Shed       0   \n",
      "\n",
      "  MoSold YrSold SaleType SaleCondition SalePrice  \n",
      "0      2   2008       WD        Normal    208500  \n",
      "1      5   2007       WD        Normal    181500  \n",
      "2      9   2008       WD        Normal    223500  \n",
      "3      2   2006       WD       Abnorml    140000  \n",
      "4     12   2008       WD        Normal    250000  \n",
      "\n",
      "[5 rows x 81 columns]\n"
     ]
    }
   ],
   "source": [
    "# Handle null values (replace 'mean' with an appropriate imputation strategy)\n",
    "imputer = SimpleImputer(strategy='most_frequent')\n",
    "df = pd.DataFrame(imputer.fit_transform(df), columns=df.columns)\n",
    "\n",
    "# Display the dataset after null value handling\n",
    "print(\"\\nDataset after null value handling:\")\n",
    "print(df.head())"
   ]
  },
  {
   "cell_type": "code",
   "execution_count": 21,
   "id": "f52965ac",
   "metadata": {},
   "outputs": [
    {
     "name": "stdout",
     "output_type": "stream",
     "text": [
      "\n",
      "Dataset after label encoding:\n",
      "   Id  MSSubClass  MSZoning  LotFrontage  LotArea  Street  Alley  LotShape  \\\n",
      "0   0           5         3           36      327       1      0         3   \n",
      "1   1           0         3           51      498       1      0         3   \n",
      "2   2           5         3           39      702       1      0         0   \n",
      "3   3           6         3           31      489       1      0         0   \n",
      "4   4           5         3           55      925       1      0         0   \n",
      "\n",
      "   LandContour  Utilities  ...  ScreenPorch  PoolArea  PoolQC  Fence  \\\n",
      "0            3          0  ...            0         0       2      2   \n",
      "1            3          0  ...            0         0       2      2   \n",
      "2            3          0  ...            0         0       2      2   \n",
      "3            3          0  ...            0         0       2      2   \n",
      "4            3          0  ...            0         0       2      2   \n",
      "\n",
      "   MiscFeature  MiscVal  MoSold  YrSold  SaleType  SaleCondition  \n",
      "0            2        0       1       2         8              4  \n",
      "1            2        0       4       1         8              4  \n",
      "2            2        0       8       2         8              4  \n",
      "3            2        0       1       0         8              0  \n",
      "4            2        0      11       2         8              4  \n",
      "\n",
      "[5 rows x 80 columns]\n"
     ]
    }
   ],
   "source": [
    "# Separate features (X) and target variable (y)\n",
    "X = df.drop('SalePrice', axis=1)\n",
    "y = df['SalePrice']\n",
    "\n",
    "# Label encoding for categorical variables\n",
    "label_encoder = LabelEncoder()\n",
    "\n",
    "# Apply label encoding to each categorical column\n",
    "for col in X.select_dtypes(include=['object']).columns:\n",
    "    X[col] = label_encoder.fit_transform(X[col])\n",
    "\n",
    "# Display the dataset after label encoding\n",
    "print(\"\\nDataset after label encoding:\")\n",
    "print(X.head())"
   ]
  },
  {
   "cell_type": "code",
   "execution_count": 22,
   "id": "cf86bbc9",
   "metadata": {},
   "outputs": [
    {
     "name": "stdout",
     "output_type": "stream",
     "text": [
      "\n",
      "Selected Features:\n",
      "Index(['OverallQual', 'GrLivArea', 'GarageCars'], dtype='object')\n"
     ]
    }
   ],
   "source": [
    "# Split the dataset into training and testing sets\n",
    "X_train, X_test, y_train, y_test = train_test_split(X, y, test_size=0.2, random_state=42)\n",
    "\n",
    "# Use RandomForestRegressor to estimate mutual information scores\n",
    "rf_regressor = RandomForestRegressor()\n",
    "rf_regressor.fit(X_train, y_train)\n",
    "mutual_info_scores = rf_regressor.feature_importances_\n",
    "\n",
    "# Use SelectKBest to select the top K features based on mutual information scores\n",
    "k_best_selector = SelectKBest(score_func=mutual_info_regression, k=3)  # Choose an appropriate value of K\n",
    "X_train_kbest = k_best_selector.fit_transform(X_train, y_train)\n",
    "\n",
    "# Get the indices of the selected features\n",
    "selected_feature_indices = k_best_selector.get_support(indices=True)\n",
    "\n",
    "# Print the names or indices of the selected features\n",
    "selected_feature_names = X_train.columns[selected_feature_indices]\n",
    "print(\"\\nSelected Features:\")\n",
    "print(selected_feature_names)"
   ]
  },
  {
   "cell_type": "markdown",
   "id": "88d34a75",
   "metadata": {},
   "source": [
    "# Part 3 : Linear Regression on the Housing Dataset"
   ]
  },
  {
   "cell_type": "code",
   "execution_count": 32,
   "id": "936c3bee",
   "metadata": {},
   "outputs": [
    {
     "name": "stdout",
     "output_type": "stream",
     "text": [
      "Original Dataset:\n",
      "   Id  MSSubClass MSZoning  LotFrontage  LotArea Street Alley LotShape  \\\n",
      "0   1          60       RL         65.0     8450   Pave   NaN      Reg   \n",
      "1   2          20       RL         80.0     9600   Pave   NaN      Reg   \n",
      "2   3          60       RL         68.0    11250   Pave   NaN      IR1   \n",
      "3   4          70       RL         60.0     9550   Pave   NaN      IR1   \n",
      "4   5          60       RL         84.0    14260   Pave   NaN      IR1   \n",
      "\n",
      "  LandContour Utilities  ... PoolArea PoolQC Fence MiscFeature MiscVal MoSold  \\\n",
      "0         Lvl    AllPub  ...        0    NaN   NaN         NaN       0      2   \n",
      "1         Lvl    AllPub  ...        0    NaN   NaN         NaN       0      5   \n",
      "2         Lvl    AllPub  ...        0    NaN   NaN         NaN       0      9   \n",
      "3         Lvl    AllPub  ...        0    NaN   NaN         NaN       0      2   \n",
      "4         Lvl    AllPub  ...        0    NaN   NaN         NaN       0     12   \n",
      "\n",
      "  YrSold  SaleType  SaleCondition  SalePrice  \n",
      "0   2008        WD         Normal     208500  \n",
      "1   2007        WD         Normal     181500  \n",
      "2   2008        WD         Normal     223500  \n",
      "3   2006        WD        Abnorml     140000  \n",
      "4   2008        WD         Normal     250000  \n",
      "\n",
      "[5 rows x 81 columns]\n"
     ]
    }
   ],
   "source": [
    "# Import necessary libraries\n",
    "import pandas as pd\n",
    "import matplotlib.pyplot as plt\n",
    "from sklearn.model_selection import train_test_split\n",
    "from sklearn.linear_model import LinearRegression\n",
    "from sklearn.metrics import mean_squared_error, r2_score\n",
    "from sklearn.preprocessing import StandardScaler\n",
    "from sklearn.impute import SimpleImputer\n",
    "\n",
    "# Load the Housing dataset (replace 'housing_dataset.csv' with the actual file path)\n",
    "df = pd.read_csv('housing.csv')\n",
    "\n",
    "# Display the first few rows of the dataset\n",
    "print(\"Original Dataset:\")\n",
    "print(df.head())"
   ]
  },
  {
   "cell_type": "code",
   "execution_count": 33,
   "id": "f4c0b84e",
   "metadata": {},
   "outputs": [
    {
     "name": "stdout",
     "output_type": "stream",
     "text": [
      "\n",
      "Dataset after null value handling:\n",
      "  Id MSSubClass MSZoning LotFrontage LotArea Street Alley LotShape  \\\n",
      "0  1         60       RL        65.0    8450   Pave  Grvl      Reg   \n",
      "1  2         20       RL        80.0    9600   Pave  Grvl      Reg   \n",
      "2  3         60       RL        68.0   11250   Pave  Grvl      IR1   \n",
      "3  4         70       RL        60.0    9550   Pave  Grvl      IR1   \n",
      "4  5         60       RL        84.0   14260   Pave  Grvl      IR1   \n",
      "\n",
      "  LandContour Utilities  ... PoolArea PoolQC  Fence MiscFeature MiscVal  \\\n",
      "0         Lvl    AllPub  ...        0     Gd  MnPrv        Shed       0   \n",
      "1         Lvl    AllPub  ...        0     Gd  MnPrv        Shed       0   \n",
      "2         Lvl    AllPub  ...        0     Gd  MnPrv        Shed       0   \n",
      "3         Lvl    AllPub  ...        0     Gd  MnPrv        Shed       0   \n",
      "4         Lvl    AllPub  ...        0     Gd  MnPrv        Shed       0   \n",
      "\n",
      "  MoSold YrSold SaleType SaleCondition SalePrice  \n",
      "0      2   2008       WD        Normal    208500  \n",
      "1      5   2007       WD        Normal    181500  \n",
      "2      9   2008       WD        Normal    223500  \n",
      "3      2   2006       WD       Abnorml    140000  \n",
      "4     12   2008       WD        Normal    250000  \n",
      "\n",
      "[5 rows x 81 columns]\n"
     ]
    }
   ],
   "source": [
    "# Handle null values (replace 'mean' with an appropriate imputation strategy)\n",
    "imputer = SimpleImputer(strategy='most_frequent')\n",
    "df = pd.DataFrame(imputer.fit_transform(df), columns=df.columns)\n",
    "\n",
    "# Display the dataset after null value handling\n",
    "print(\"\\nDataset after null value handling:\")\n",
    "print(df.head())"
   ]
  },
  {
   "cell_type": "code",
   "execution_count": 44,
   "id": "22b86300",
   "metadata": {},
   "outputs": [
    {
     "name": "stdout",
     "output_type": "stream",
     "text": [
      "\n",
      "Mean Squared Error (MSE): 1.82\n",
      "Coefficient of Determination (R^2): 0.00\n"
     ]
    }
   ],
   "source": [
    "# Separate features (X) and target variable (y)\n",
    "X = df.drop('YrSold', axis=1)\n",
    "y = df['YrSold']\n",
    "\n",
    "# Label encoding for categorical variables\n",
    "label_encoder = LabelEncoder()\n",
    "\n",
    "# Apply label encoding to each categorical column\n",
    "for col in X.select_dtypes(include=['object']).columns:\n",
    "    X[col] = label_encoder.fit_transform(X[col])\n",
    "\n",
    "# Split the dataset into training and testing sets (80:20 ratio)\n",
    "X_train, X_test, y_train, y_test = train_test_split(X, y, test_size=0.2, random_state=42)\n",
    "\n",
    "# Scale features using StandardScaler (optional but can improve model performance)\n",
    "scaler = StandardScaler()\n",
    "X_train_scaled = scaler.fit_transform(X_train)\n",
    "X_test_scaled = scaler.transform(X_test)\n",
    "\n",
    "# Fit a linear regression model to the training data\n",
    "model = LinearRegression()\n",
    "model.fit(X_train_scaled, y_train)\n",
    "\n",
    "# Predict house prices for the testing data\n",
    "y_pred = model.predict(X_test_scaled)\n",
    "\n",
    "# Evaluate the model's performance\n",
    "mse = mean_squared_error(y_test, y_pred)\n",
    "r2 = r2_score(y_test, y_pred)\n",
    "\n",
    "# Print the MSE and R^2 values\n",
    "print(f\"\\nMean Squared Error (MSE): {mse:.2f}\")\n",
    "print(f\"Coefficient of Determination (R^2): {r2:.2f}\")"
   ]
  },
  {
   "cell_type": "code",
   "execution_count": 45,
   "id": "dfaec448",
   "metadata": {},
   "outputs": [
    {
     "data": {
      "image/png": "[encoded data removed]",
      "text/plain": [
       "<Figure size 1000x600 with 1 Axes>"
      ]
     },
     "metadata": {},
     "output_type": "display_data"
    }
   ],
   "source": [
    "# Plot a scatter plot between predicted and actual house prices\n",
    "plt.figure(figsize=(10, 6))\n",
    "plt.scatter(y_test, y_pred, color='blue', alpha=0.6)\n",
    "plt.title('Predicted vs Actual House Prices')\n",
    "plt.xlabel('Actual House Prices')\n",
    "plt.ylabel('Predicted House Prices')\n",
    "plt.show()"
   ]
  },
  {
   "cell_type": "code",
   "execution_count": null,
   "id": "37153bc1",
   "metadata": {},
   "outputs": [],
   "source": []
  }
 ],
 "metadata": {
  "kernelspec": {
   "display_name": "Python 3 (ipykernel)",
   "language": "python",
   "name": "python3"
  },
  "language_info": {
   "codemirror_mode": {
    "name": "ipython",
    "version": 3
   },
   "file_extension": ".py",
   "mimetype": "text/x-python",
   "name": "python",
   "nbconvert_exporter": "python",
   "pygments_lexer": "ipython3",
   "version": "3.9.13"
  }
 },
 "nbformat": 4,
 "nbformat_minor": 5
}
